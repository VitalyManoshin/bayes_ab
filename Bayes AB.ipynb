{
 "cells": [
  {
   "cell_type": "code",
   "execution_count": 20,
   "metadata": {},
   "outputs": [],
   "source": [
    "from scipy.stats import beta\n",
    "import numpy as np\n",
    "import matplotlib.pyplot as plt"
   ]
  },
  {
   "cell_type": "code",
   "execution_count": 116,
   "metadata": {},
   "outputs": [],
   "source": [
    "#вычисляем параметры бета-распределения исходя из среднего и дисперсии\n",
    "\n",
    "def ab(mean, var): \n",
    "    a = (1 - mean)*mean**2/var - mean\n",
    "    b = a*(1 - mean)/mean\n",
    "    return a, b\n",
    "\n",
    "a, b = ab(0.5, 0.05) #параметры априорного распределения"
   ]
  },
  {
   "cell_type": "code",
   "execution_count": 43,
   "metadata": {},
   "outputs": [],
   "source": [
    "na = 1000 #количество пользователей в группе A\n",
    "nb = 1000 #количество пользователей в группе B\n",
    "ca = 500 #число сконвертившихся пользователей в группе A\n",
    "cb = 530 #число сконвертившихся пользователей в группе B"
   ]
  },
  {
   "cell_type": "code",
   "execution_count": 90,
   "metadata": {},
   "outputs": [],
   "source": [
    "N = 1000 #количество точек в разбиении для расчета апостериорного распределения"
   ]
  },
  {
   "cell_type": "code",
   "execution_count": 117,
   "metadata": {},
   "outputs": [],
   "source": [
    "x = np.linspace(1/N, 1 - 1/N, N)"
   ]
  },
  {
   "cell_type": "code",
   "execution_count": 92,
   "metadata": {},
   "outputs": [],
   "source": [
    "#вычисляем апостериорные распределения исходя из наблюдений\n",
    "\n",
    "posteriorA = beta.pdf(x, a + ca, b + na - ca)\n",
    "posteriorB = beta.pdf(x, a + cb, b + nb - cb)"
   ]
  },
  {
   "cell_type": "code",
   "execution_count": 125,
   "metadata": {},
   "outputs": [
    {
     "data": {
      "image/png": "[encoded data removed]",
      "text/plain": [
       "<Figure size 432x288 with 1 Axes>"
      ]
     },
     "metadata": {
      "needs_background": "light"
     },
     "output_type": "display_data"
    }
   ],
   "source": [
    "fig, ax = plt.subplots(1, 1)\n",
    "_ = ax.plot(x, posteriorA, 'r-', lw=2, alpha=0.6, label='A')\n",
    "_ = ax.legend()\n",
    "_ = ax.plot(x, posteriorB, 'b-', lw=2, alpha=0.6, label='B')\n",
    "_ = ax.legend()\n",
    "_ = ax.plot(x, beta.pdf(x, a, b), 'g-', lw=2, alpha=0.6, label='Prior')\n",
    "_ = ax.legend()"
   ]
  },
  {
   "cell_type": "code",
   "execution_count": 94,
   "metadata": {},
   "outputs": [],
   "source": [
    "#вычисляем совместное распределение для вариантов А и B\n",
    "\n",
    "joint_posterior = np.zeros(shape=(N, N))\n",
    "for i in range(N):\n",
    "    for j in range(N):\n",
    "        joint_posterior[i,j] = posteriorA[i] * posteriorB[j]"
   ]
  },
  {
   "cell_type": "code",
   "execution_count": 126,
   "metadata": {},
   "outputs": [],
   "source": [
    "#вычисляем функцию ошибки для вариантов А и B\n",
    "\n",
    "errorFunctionA = 0.0\n",
    "for i in range(N):\n",
    "    for j in range(i, N):\n",
    "        errorFunctionA += joint_posterior[i,j]\n",
    "        \n",
    "errorFunctionB = 0.0\n",
    "for i in range(N):\n",
    "    for j in range(0, i):\n",
    "        errorFunctionB += joint_posterior[i,j]\n",
    "\n",
    "errorFunctionA = errorFunctionA/(N*N)\n",
    "errorFunctionB = errorFunctionB/(N*N)"
   ]
  },
  {
   "cell_type": "code",
   "execution_count": 129,
   "metadata": {},
   "outputs": [
    {
     "data": {
      "text/plain": [
       "1.002005012027542"
      ]
     },
     "execution_count": 129,
     "metadata": {},
     "output_type": "execute_result"
    }
   ],
   "source": [
    "# sanity check, проверям, что сумма вероятностей равна 1\n",
    "errorFunctionA + errorFunctionB "
   ]
  },
  {
   "cell_type": "code",
   "execution_count": 109,
   "metadata": {},
   "outputs": [],
   "source": [
    "# вычисляем функцию потерь\n",
    "\n",
    "def loss(i, j, var):\n",
    "    if var == 'A':\n",
    "        return max(j*0.01 - i*0.01, 0.0)\n",
    "    if var == 'B':\n",
    "        return max(i*0.01 - j*0.01, 0.0)\n",
    "\n",
    "lossFunction = 0.0\n",
    "for i in range(N):\n",
    "    for j in range(N):\n",
    "        lossFunction += joint_posterior[i,j] * loss(i,j,'B')\n",
    "lossFunction = lossFunction/(N*N)"
   ]
  },
  {
   "cell_type": "code",
   "execution_count": 110,
   "metadata": {},
   "outputs": [
    {
     "data": {
      "text/plain": [
       "0.00933633246720731"
      ]
     },
     "execution_count": 110,
     "metadata": {},
     "output_type": "execute_result"
    }
   ],
   "source": [
    "lossFunction"
   ]
  },
  {
   "cell_type": "code",
   "execution_count": null,
   "metadata": {},
   "outputs": [],
   "source": []
  }
 ],
 "metadata": {
  "kernelspec": {
   "display_name": "Python 3",
   "language": "python",
   "name": "python3"
  },
  "language_info": {
   "codemirror_mode": {
    "name": "ipython",
    "version": 3
   },
   "file_extension": ".py",
   "mimetype": "text/x-python",
   "name": "python",
   "nbconvert_exporter": "python",
   "pygments_lexer": "ipython3",
   "version": "3.8.5"
  }
 },
 "nbformat": 4,
 "nbformat_minor": 5
}
